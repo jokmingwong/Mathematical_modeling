{
 "cells": [
  {
   "cell_type": "heading",
   "metadata": {
    "collapsed": true
   },
   "level": 4,
   "source": [
    "binomial()函数进行二项式博弈"
   ]
  },
  {
   "cell_type": "code",
   "execution_count": null,
   "metadata": {},
   "outputs": [],
   "source": [
    "import numpy as np\n",
    "cash = np.zeros(10000)\n",
    "cash[0] = 1000\n",
    "# binomial三个参数的意思分别是0~9的范围，0.5是概率，size是数组的长度\n",
    "outcome = np.random.binomial(9,0.5,size=len(cash))\n",
    "for i in range(1,len(cash))\n",
    "    if outcome[i] < 5:\n",
    "        cash[i] = cash[i-1] - 1\n",
    "    elif outcome[i] < 10:\n",
    "        cash[i] = cash[i-1] + 1\n",
    "    else:\n",
    "        raise AssertionError(\"Unexpected outcome\"+outcome)\n",
    "print(outcome.max(),outcome.min())"
   ]
  }
 ],
 "metadata": {
  "kernelspec": {
   "display_name": "Python 2",
   "language": "python",
   "name": "python2"
  },
  "language_info": {
   "codemirror_mode": {
    "name": "ipython",
    "version": 2
   },
   "file_extension": ".py",
   "mimetype": "text/x-python",
   "name": "python",
   "nbconvert_exporter": "python",
   "pygments_lexer": "ipython2",
   "version": "2.7.6"
  }
 },
 "nbformat": 4,
 "nbformat_minor": 0
}
